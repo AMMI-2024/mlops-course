{
 "cells": [
  {
   "cell_type": "code",
   "execution_count": 1,
   "metadata": {},
   "outputs": [],
   "source": [
    "from sklearn.datasets import load_iris\n",
    "import pandas as pd\n",
    "\n",
    "def load_train_data():\n",
    "    iris = load_iris()\n",
    "    df = pd.DataFrame(iris.data, columns=[\"col1\", \"col2\", \"col3\", \"col4\"])\n",
    "    df[\"species\"] = iris.target\n",
    "    return df"
   ]
  },
  {
   "cell_type": "code",
   "execution_count": 2,
   "metadata": {},
   "outputs": [
    {
     "data": {
      "text/html": [
       "<div>\n",
       "<style scoped>\n",
       "    .dataframe tbody tr th:only-of-type {\n",
       "        vertical-align: middle;\n",
       "    }\n",
       "\n",
       "    .dataframe tbody tr th {\n",
       "        vertical-align: top;\n",
       "    }\n",
       "\n",
       "    .dataframe thead th {\n",
       "        text-align: right;\n",
       "    }\n",
       "</style>\n",
       "<table border=\"1\" class=\"dataframe\">\n",
       "  <thead>\n",
       "    <tr style=\"text-align: right;\">\n",
       "      <th></th>\n",
       "      <th>col1</th>\n",
       "      <th>col2</th>\n",
       "      <th>col3</th>\n",
       "      <th>col4</th>\n",
       "      <th>species</th>\n",
       "    </tr>\n",
       "  </thead>\n",
       "  <tbody>\n",
       "    <tr>\n",
       "      <th>0</th>\n",
       "      <td>5.1</td>\n",
       "      <td>3.5</td>\n",
       "      <td>1.4</td>\n",
       "      <td>0.2</td>\n",
       "      <td>0</td>\n",
       "    </tr>\n",
       "    <tr>\n",
       "      <th>1</th>\n",
       "      <td>4.9</td>\n",
       "      <td>3.0</td>\n",
       "      <td>1.4</td>\n",
       "      <td>0.2</td>\n",
       "      <td>0</td>\n",
       "    </tr>\n",
       "    <tr>\n",
       "      <th>2</th>\n",
       "      <td>4.7</td>\n",
       "      <td>3.2</td>\n",
       "      <td>1.3</td>\n",
       "      <td>0.2</td>\n",
       "      <td>0</td>\n",
       "    </tr>\n",
       "    <tr>\n",
       "      <th>3</th>\n",
       "      <td>4.6</td>\n",
       "      <td>3.1</td>\n",
       "      <td>1.5</td>\n",
       "      <td>0.2</td>\n",
       "      <td>0</td>\n",
       "    </tr>\n",
       "    <tr>\n",
       "      <th>4</th>\n",
       "      <td>5.0</td>\n",
       "      <td>3.6</td>\n",
       "      <td>1.4</td>\n",
       "      <td>0.2</td>\n",
       "      <td>0</td>\n",
       "    </tr>\n",
       "  </tbody>\n",
       "</table>\n",
       "</div>"
      ],
      "text/plain": [
       "   col1  col2  col3  col4  species\n",
       "0   5.1   3.5   1.4   0.2        0\n",
       "1   4.9   3.0   1.4   0.2        0\n",
       "2   4.7   3.2   1.3   0.2        0\n",
       "3   4.6   3.1   1.5   0.2        0\n",
       "4   5.0   3.6   1.4   0.2        0"
      ]
     },
     "execution_count": 2,
     "metadata": {},
     "output_type": "execute_result"
    }
   ],
   "source": [
    "df = load_train_data()\n",
    "df.head()"
   ]
  },
  {
   "cell_type": "code",
   "execution_count": 3,
   "metadata": {},
   "outputs": [
    {
     "data": {
      "text/html": [
       "<div>\n",
       "<style scoped>\n",
       "    .dataframe tbody tr th:only-of-type {\n",
       "        vertical-align: middle;\n",
       "    }\n",
       "\n",
       "    .dataframe tbody tr th {\n",
       "        vertical-align: top;\n",
       "    }\n",
       "\n",
       "    .dataframe thead th {\n",
       "        text-align: right;\n",
       "    }\n",
       "</style>\n",
       "<table border=\"1\" class=\"dataframe\">\n",
       "  <thead>\n",
       "    <tr style=\"text-align: right;\">\n",
       "      <th></th>\n",
       "      <th>col1</th>\n",
       "      <th>col2</th>\n",
       "      <th>col3</th>\n",
       "      <th>col4</th>\n",
       "      <th>species</th>\n",
       "    </tr>\n",
       "  </thead>\n",
       "  <tbody>\n",
       "    <tr>\n",
       "      <th>24</th>\n",
       "      <td>4.8</td>\n",
       "      <td>3.4</td>\n",
       "      <td>1.9</td>\n",
       "      <td>0.2</td>\n",
       "      <td>0</td>\n",
       "    </tr>\n",
       "    <tr>\n",
       "      <th>42</th>\n",
       "      <td>4.4</td>\n",
       "      <td>3.2</td>\n",
       "      <td>1.3</td>\n",
       "      <td>0.2</td>\n",
       "      <td>0</td>\n",
       "    </tr>\n",
       "    <tr>\n",
       "      <th>6</th>\n",
       "      <td>4.6</td>\n",
       "      <td>3.4</td>\n",
       "      <td>1.4</td>\n",
       "      <td>0.3</td>\n",
       "      <td>0</td>\n",
       "    </tr>\n",
       "    <tr>\n",
       "      <th>53</th>\n",
       "      <td>5.5</td>\n",
       "      <td>2.3</td>\n",
       "      <td>4.0</td>\n",
       "      <td>1.3</td>\n",
       "      <td>1</td>\n",
       "    </tr>\n",
       "    <tr>\n",
       "      <th>113</th>\n",
       "      <td>5.7</td>\n",
       "      <td>2.5</td>\n",
       "      <td>5.0</td>\n",
       "      <td>2.0</td>\n",
       "      <td>2</td>\n",
       "    </tr>\n",
       "  </tbody>\n",
       "</table>\n",
       "</div>"
      ],
      "text/plain": [
       "     col1  col2  col3  col4  species\n",
       "24    4.8   3.4   1.9   0.2        0\n",
       "42    4.4   3.2   1.3   0.2        0\n",
       "6     4.6   3.4   1.4   0.3        0\n",
       "53    5.5   2.3   4.0   1.3        1\n",
       "113   5.7   2.5   5.0   2.0        2"
      ]
     },
     "execution_count": 3,
     "metadata": {},
     "output_type": "execute_result"
    }
   ],
   "source": [
    "df2 = df.sample(frac=0.4, random_state=14)\n",
    "df2.head()"
   ]
  },
  {
   "cell_type": "code",
   "execution_count": 4,
   "metadata": {},
   "outputs": [
    {
     "data": {
      "text/plain": [
       "(            col1       col2       col3       col4    species\n",
       " count  60.000000  60.000000  60.000000  60.000000  60.000000\n",
       " mean    5.663333   3.080000   3.420000   1.038333   0.866667\n",
       " std     0.759564   0.484611   1.747521   0.733252   0.832938\n",
       " min     4.400000   2.200000   1.000000   0.200000   0.000000\n",
       " 25%     5.000000   2.775000   1.500000   0.200000   0.000000\n",
       " 50%     5.700000   3.000000   4.000000   1.200000   1.000000\n",
       " 75%     6.225000   3.400000   5.000000   1.550000   2.000000\n",
       " max     7.700000   4.400000   6.700000   2.400000   2.000000,\n",
       "              col1        col2        col3        col4     species\n",
       " count  150.000000  150.000000  150.000000  150.000000  150.000000\n",
       " mean     5.843333    3.057333    3.758000    1.199333    1.000000\n",
       " std      0.828066    0.435866    1.765298    0.762238    0.819232\n",
       " min      4.300000    2.000000    1.000000    0.100000    0.000000\n",
       " 25%      5.100000    2.800000    1.600000    0.300000    0.000000\n",
       " 50%      5.800000    3.000000    4.350000    1.300000    1.000000\n",
       " 75%      6.400000    3.300000    5.100000    1.800000    2.000000\n",
       " max      7.900000    4.400000    6.900000    2.500000    2.000000)"
      ]
     },
     "execution_count": 4,
     "metadata": {},
     "output_type": "execute_result"
    }
   ],
   "source": [
    "df2.describe(), df.describe()"
   ]
  },
  {
   "cell_type": "code",
   "execution_count": 7,
   "metadata": {},
   "outputs": [],
   "source": [
    "import requests\n",
    "\n",
    "def send_request(data):\n",
    "    url = 'http://localhost:8000/predict/logistic_model'\n",
    "    payload = {\"sepal_length\": data.col1, \"sepal_width\": data.col2, \"petal_length\": data.col3, \"petal_width\": data.col4}\n",
    "    headers = {'content-type': 'application/json', 'accept': 'application/json'}\n",
    "    r = requests.post(url, json=payload, headers=headers)\n",
    "    return r.json()['prediction']"
   ]
  },
  {
   "cell_type": "code",
   "execution_count": 8,
   "metadata": {},
   "outputs": [
    {
     "data": {
      "text/plain": [
       "24     0\n",
       "42     0\n",
       "6      0\n",
       "53     1\n",
       "113    2\n",
       "58     1\n",
       "40     0\n",
       "96     1\n",
       "23     0\n",
       "97     1\n",
       "106    1\n",
       "18     0\n",
       "103    2\n",
       "141    2\n",
       "20     0\n",
       "89     1\n",
       "29     0\n",
       "112    2\n",
       "148    2\n",
       "95     1\n",
       "5      0\n",
       "22     0\n",
       "7      0\n",
       "54     1\n",
       "44     0\n",
       "108    2\n",
       "2      0\n",
       "92     1\n",
       "66     1\n",
       "47     0\n",
       "39     0\n",
       "93     1\n",
       "73     1\n",
       "14     0\n",
       "69     1\n",
       "36     0\n",
       "149    2\n",
       "80     1\n",
       "119    2\n",
       "51     1\n",
       "125    2\n",
       "46     0\n",
       "15     0\n",
       "82     1\n",
       "111    2\n",
       "134    2\n",
       "34     0\n",
       "8      0\n",
       "38     0\n",
       "87     1\n",
       "49     0\n",
       "26     0\n",
       "122    2\n",
       "145    2\n",
       "86     1\n",
       "136    2\n",
       "142    2\n",
       "33     0\n",
       "55     1\n",
       "116    2\n",
       "dtype: int64"
      ]
     },
     "execution_count": 8,
     "metadata": {},
     "output_type": "execute_result"
    }
   ],
   "source": [
    "df2.apply(send_request, axis=1)"
   ]
  }
 ],
 "metadata": {
  "kernelspec": {
   "display_name": ".venv",
   "language": "python",
   "name": "python3"
  },
  "language_info": {
   "codemirror_mode": {
    "name": "ipython",
    "version": 3
   },
   "file_extension": ".py",
   "mimetype": "text/x-python",
   "name": "python",
   "nbconvert_exporter": "python",
   "pygments_lexer": "ipython3",
   "version": "3.10.14"
  }
 },
 "nbformat": 4,
 "nbformat_minor": 2
}
